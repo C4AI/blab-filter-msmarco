{
 "cells": [
  {
   "cell_type": "code",
   "execution_count": null,
   "id": "3b31be28",
   "metadata": {},
   "outputs": [],
   "source": [
    "import pandas as pd\n",
    "import os\n",
    "import json"
   ]
  },
  {
   "cell_type": "code",
   "execution_count": null,
   "id": "7b591144",
   "metadata": {},
   "outputs": [],
   "source": [
    "df = pd.read_excel(\"results/Perguntas.xlsx\", sheet_name=\"finais\")"
   ]
  },
  {
   "cell_type": "code",
   "execution_count": null,
   "id": "d6427e32",
   "metadata": {},
   "outputs": [],
   "source": [
    "df = df.dropna(subset=[\"Resposta\"])"
   ]
  },
  {
   "cell_type": "code",
   "execution_count": null,
   "id": "440dc023",
   "metadata": {},
   "outputs": [],
   "source": [
    "df.head()"
   ]
  },
  {
   "cell_type": "code",
   "execution_count": null,
   "id": "d653cd88",
   "metadata": {},
   "outputs": [],
   "source": [
    "subs = [\"Pergunta\",\"Intenção\"]\n",
    "df2 = df[subs]\n",
    "df2 = df2.rename(columns={\"Pergunta\": \"examples\", \"Intenção\": \"intent\"})"
   ]
  },
  {
   "cell_type": "code",
   "execution_count": null,
   "id": "8309441a",
   "metadata": {
    "scrolled": true
   },
   "outputs": [],
   "source": [
    "skill_path = \"results/skill-Amazônia-Azul.json\"\n",
    "with open(skill_path, \"r\", encoding=\"utf-8\") as f:\n",
    "    skill = json.load(f)\n",
    "skill"
   ]
  },
  {
   "cell_type": "code",
   "execution_count": null,
   "id": "7ab1563a",
   "metadata": {},
   "outputs": [],
   "source": [
    "intents = skill[\"intents\"]\n",
    "intents"
   ]
  },
  {
   "cell_type": "code",
   "execution_count": null,
   "id": "9b283031",
   "metadata": {},
   "outputs": [],
   "source": [
    "new_intents = df2.to_dict(orient=\"records\")\n",
    "new_intents = [{\"intent\": i[\"intent\"], \"examples\": [{\"text\": i[\"examples\"]}], \"description\": \"\"} for i in new_intents]\n",
    "new_intents"
   ]
  },
  {
   "cell_type": "code",
   "execution_count": null,
   "id": "a7d50825",
   "metadata": {},
   "outputs": [],
   "source": [
    "skill[\"intents\"] = new_intents\n",
    "skill"
   ]
  },
  {
   "cell_type": "code",
   "execution_count": null,
   "id": "d6c7d8f3",
   "metadata": {},
   "outputs": [],
   "source": [
    "skill_root, skill_ext = os.path.splitext(skill_path)\n",
    "new_skill_path = f\"{skill_root}2{skill_ext}\"\n",
    "with open(new_skill_path, \"w\", encoding=\"utf-8\") as f:\n",
    "    json.dump(skill, f, ensure_ascii=False)"
   ]
  },
  {
   "cell_type": "code",
   "execution_count": null,
   "id": "946bd594",
   "metadata": {},
   "outputs": [],
   "source": []
  }
 ],
 "metadata": {
  "kernelspec": {
   "display_name": "Python [conda env:root] *",
   "language": "python",
   "name": "conda-root-py"
  },
  "language_info": {
   "codemirror_mode": {
    "name": "ipython",
    "version": 3
   },
   "file_extension": ".py",
   "mimetype": "text/x-python",
   "name": "python",
   "nbconvert_exporter": "python",
   "pygments_lexer": "ipython3",
   "version": "3.7.9"
  },
  "toc": {
   "base_numbering": 1,
   "nav_menu": {},
   "number_sections": true,
   "sideBar": true,
   "skip_h1_title": false,
   "title_cell": "Table of Contents",
   "title_sidebar": "Contents",
   "toc_cell": false,
   "toc_position": {},
   "toc_section_display": true,
   "toc_window_display": false
  },
  "varInspector": {
   "cols": {
    "lenName": 16,
    "lenType": 16,
    "lenVar": 40
   },
   "kernels_config": {
    "python": {
     "delete_cmd_postfix": "",
     "delete_cmd_prefix": "del ",
     "library": "var_list.py",
     "varRefreshCmd": "print(var_dic_list())"
    },
    "r": {
     "delete_cmd_postfix": ") ",
     "delete_cmd_prefix": "rm(",
     "library": "var_list.r",
     "varRefreshCmd": "cat(var_dic_list()) "
    }
   },
   "types_to_exclude": [
    "module",
    "function",
    "builtin_function_or_method",
    "instance",
    "_Feature"
   ],
   "window_display": false
  }
 },
 "nbformat": 4,
 "nbformat_minor": 5
}
