{
 "cells": [
  {
   "cell_type": "code",
   "execution_count": null,
   "id": "3b31be28",
   "metadata": {},
   "outputs": [],
   "source": [
    "from copy import deepcopy\n",
    "import json\n",
    "import os\n",
    "from typing import List\n",
    "import uuid\n",
    "import re\n",
    "import pandas as pd"
   ]
  },
  {
   "cell_type": "code",
   "execution_count": null,
   "id": "59f48b9d",
   "metadata": {},
   "outputs": [],
   "source": [
    "def drop_duplicates(ls: List) -> List:\n",
    "    return list(filter(None, set(ls)))\n",
    "\n",
    "def flatten(ls: List) -> List:\n",
    "    return [item for sublist in ls for item in sublist]\n",
    "\n",
    "def remove(ls: List, to_remove: List) -> List:\n",
    "    ls_copy = deepcopy(ls)\n",
    "    for el in to_remove:\n",
    "        if el in ls_copy:\n",
    "            ls_copy.remove(el)\n",
    "    return ls_copy"
   ]
  },
  {
   "cell_type": "code",
   "execution_count": null,
   "id": "440dc023",
   "metadata": {},
   "outputs": [],
   "source": [
    "def load_perguntas():\n",
    "    df = pd.read_excel(\"results/Perguntas.xlsx\", sheet_name=\"finais\")\n",
    "    df = df.dropna(subset=[\"Resposta\"])\n",
    "    subs = {\n",
    "        \"Pergunta\": \"pergunta\",\n",
    "        \"Resposta\": \"resposta\",\n",
    "        \"Intenção\": \"intent\",\n",
    "        \"Rótulos\": \"rótulos\",\n",
    "        \"Modificador\": \"modificador\",\n",
    "        \"Substantivo\": \"substantivo\",\n",
    "        \"Recipiente\": \"recipiente\",\n",
    "        \"Elocuções\": \"exemplos\",\n",
    "    }\n",
    "    cols = list(subs.keys())\n",
    "    df = df[cols]\n",
    "    df = df.rename(columns=subs)\n",
    "    df = df.fillna(\"\")\n",
    "    return df"
   ]
  },
  {
   "cell_type": "code",
   "execution_count": null,
   "id": "d6c7d8f3",
   "metadata": {},
   "outputs": [],
   "source": [
    "def load_skill(skill_path):\n",
    "    with open(skill_path, \"r\", encoding=\"utf-8\") as f:\n",
    "        skill = json.load(f)\n",
    "    return skill\n",
    "\n",
    "def save_skill(skill_path, skill):\n",
    "    skill_root, skill_ext = os.path.splitext(skill_path)\n",
    "    new_skill_path = f\"{skill_root}2{skill_ext}\"\n",
    "    with open(new_skill_path, \"w\", encoding=\"utf-8\") as f:\n",
    "        json.dump(skill, f, ensure_ascii=False)"
   ]
  },
  {
   "cell_type": "code",
   "execution_count": null,
   "id": "a7d50825",
   "metadata": {},
   "outputs": [],
   "source": [
    "def get_intents(df):\n",
    "    subset = [\"intent\", \"pergunta\", \"exemplos\"]\n",
    "    records = df[subset].to_dict(orient=\"records\")\n",
    "    intents = [\n",
    "        {\n",
    "            \"intent\": record[\"intent\"],\n",
    "            \"examples\": get_examples(record),\n",
    "            \"description\": \"\",\n",
    "        }\n",
    "        for record in records\n",
    "    ]\n",
    "    return intents\n",
    "\n",
    "def get_examples(record) -> List:\n",
    "    out = [{\"text\": record[\"pergunta\"]}]\n",
    "    if record[\"exemplos\"]:\n",
    "        out += [{\"text\": exemplo} for exemplo in record[\"exemplos\"].split(\"--\")]\n",
    "    return out"
   ]
  },
  {
   "cell_type": "code",
   "execution_count": null,
   "id": "c76f5324",
   "metadata": {},
   "outputs": [],
   "source": [
    "def get_entities(df):\n",
    "    subset = [\"rótulos\", \"modificador\", \"substantivo\", \"recipiente\"]\n",
    "    entities = []\n",
    "    for col in subset:\n",
    "        records = df[col].drop_duplicates().to_list()\n",
    "        records = [r.split(\"-\") for r in records]\n",
    "        records = flatten(records)\n",
    "        records = drop_duplicates(records)\n",
    "\n",
    "        values = [\n",
    "            {\"type\": \"synonyms\", \"value\": record, \"synonyms\": []} for record in records\n",
    "        ]\n",
    "        entity = {\"entity\": col, \"values\": values, \"fuzzy_match\": True}\n",
    "        entities.append(entity)\n",
    "    return entities\n"
   ]
  },
  {
   "cell_type": "code",
   "execution_count": null,
   "id": "8def953b",
   "metadata": {},
   "outputs": [],
   "source": [
    "def get_synonyms(a, b):\n",
    "    \"\"\"\n",
    "    Pega sinônimos que foram adicionados a entidades através da interface do Watson\n",
    "    e copia para as entidades geradas automaticamente da planilha.\n",
    "    \"\"\"\n",
    "    ents_old = deepcopy(a)\n",
    "    ents_new = deepcopy(b)\n",
    "    for col in [\"modificador\", \"rótulos\", \"substantivo\", \"recipiente\"]:\n",
    "        try:\n",
    "            ent_old = next(ent for ent in ents_old if ent[\"entity\"] == col)\n",
    "            ent_new = next(ent for ent in ents_new if ent[\"entity\"] == col)\n",
    "        except StopIteration:\n",
    "            continue\n",
    "        for v_old in ent_old[\"values\"]:\n",
    "            for v_new in ent_new[\"values\"]:\n",
    "                if v_new[\"value\"] == v_old[\"value\"]:\n",
    "                    v_new[\"synonyms\"] = v_old[\"synonyms\"]\n",
    "    return ents_new"
   ]
  },
  {
   "cell_type": "code",
   "execution_count": null,
   "id": "d136d467",
   "metadata": {
    "code_folding": [],
    "scrolled": true
   },
   "outputs": [],
   "source": [
    "def get_contextos(rotulos):\n",
    "    rotulos_nao_contextuais = [\n",
    "        \"fauna\",\n",
    "        \"flora\",\n",
    "        \"extra\",\n",
    "        \"física\",\n",
    "        \"símbolo\",\n",
    "        \"turismo\",\n",
    "        \"engenharia\",\n",
    "        \"saúde\",\n",
    "        \"geologia\",\n",
    "    ]\n",
    "    contextos = [contexto for contexto in rotulos if all([rot not in contexto for rot in rotulos_nao_contextuais])]\n",
    "    return contextos\n",
    "\n",
    "def get_titulo(js):\n",
    "    modificador = js[\"modificador\"]\n",
    "    substantivo = js[\"substantivo\"].replace(\"-\", \" \")\n",
    "    recipiente = js[\"recipiente\"]\n",
    "    \n",
    "    contextos = get_contextos(js[\"rótulos\"].split(\"-\"))\n",
    "    contextos = list(filter(lambda x: x.count(\"-\") == 0, contextos))\n",
    "    titulo = f\"{'/'.join(map(str.title, contextos))}: \" if contextos else \"\"\n",
    "    titulo += modificador + \" \"\n",
    "    \n",
    "    if modificador in [\"efeito\"]:\n",
    "        titulo += f\" de {substantivo} em {recipiente}\"\n",
    "    elif modificador in [\"maiores\", \"menores\"]:\n",
    "        subst = {\"produção\": \"produtores\"}\n",
    "        if recipiente in subst:\n",
    "            recipiente = subst[recipiente]\n",
    "        substantivo = substantivo + \"s\" if substantivo[-1] != \"s\" else substantivo\n",
    "        titulo += f\"{substantivo} {recipiente}\"\n",
    "    elif modificador in [\"diferença\"]:\n",
    "        recipiente = recipiente or contextos[0]\n",
    "        titulo += f\"entre {substantivo} e {recipiente}\"\n",
    "    elif modificador in [\"existe\", \"quantidade\"]:\n",
    "        recipiente = recipiente or \"no Brasil\"\n",
    "        if substantivo:\n",
    "            titulo += substantivo + \" \"\n",
    "        titulo += f\"{recipiente}\"\n",
    "    elif modificador in [\"listar\"]:\n",
    "        subst = {\"extinção\": \"em extinção\", \"aaz\": \"na Amazônia Azul\"}\n",
    "        if recipiente in subst:\n",
    "            recipiente = subst[recipiente]\n",
    "        titulo += f\"{substantivo} {recipiente}\"\n",
    "    else:\n",
    "        if substantivo:\n",
    "            titulo += substantivo + \" \"\n",
    "        if recipiente:\n",
    "            titulo += recipiente + \" \"\n",
    "    titulo = titulo.strip()\n",
    "    return titulo\n",
    "\n",
    "def get_condition_string(js):\n",
    "    modificador = js[\"modificador\"]\n",
    "    substantivo = js[\"substantivo\"]\n",
    "    recipiente = js[\"recipiente\"]\n",
    "    rotulos = js[\"rótulos\"].split(\"-\") + [js[\"rótulos\"]]\n",
    "    rotulos = drop_duplicates(rotulos)\n",
    "    contextos = get_contextos(rotulos)\n",
    "\n",
    "    if contextos:\n",
    "        conds_adicionais = [\n",
    "            [\n",
    "                \" && \".join(\n",
    "                    [\n",
    "                        f\"@modificador:{modificador}\",\n",
    "                        (f\"@substantivo:{substantivo}\" if substantivo else \"\"),\n",
    "                        (f\"@recipiente:{recipiente}\" if recipiente else \"\"),\n",
    "                        f'$contexto==\"{contexto}\"',\n",
    "                    ]\n",
    "                ),\n",
    "                \" && \".join(\n",
    "                    [\n",
    "                        f\"@modificador:{modificador}\",\n",
    "                        (f\"@substantivo:{substantivo}\" if substantivo else \"\"),\n",
    "                        (f\"@recipiente:{recipiente}\" if recipiente else \"\"),\n",
    "                        f\"@rótulos:{contexto}\",\n",
    "                    ]\n",
    "                ),\n",
    "            ]\n",
    "            for contexto in contextos\n",
    "        ]\n",
    "    else:\n",
    "        conds_adicionais = [\n",
    "            [\n",
    "                \" && \".join(\n",
    "                    [\n",
    "                        f\"@modificador:{modificador}\",\n",
    "                        (f\"@substantivo=={substantivo}\" if substantivo else \"\"),\n",
    "                        (f\"@recipiente=={recipiente}\" if recipiente else \"\"),\n",
    "                    ]\n",
    "                )\n",
    "            ]\n",
    "        ]\n",
    "\n",
    "    conds_adicionais = list(\n",
    "        map(\n",
    "            lambda x: map(lambda y: re.sub(r\"(&  &)| && $\", \"\", y), x), conds_adicionais\n",
    "        )\n",
    "    )\n",
    "    conds = [f\"#{js['intent']}\"] + flatten(conds_adicionais)\n",
    "    cond_str = \" || \".join(conds)\n",
    "    return cond_str\n",
    "    \n",
    "\n",
    "def get_dialog_nodes(df):\n",
    "    records = df.to_dict(orient=\"records\")\n",
    "    dialog_nodes = [\n",
    "        {\n",
    "            \"type\": \"standard\",\n",
    "            \"title\": get_titulo(record),\n",
    "            \"output\": {\n",
    "                \"generic\": [\n",
    "                    {\n",
    "                        \"values\": [{\"text\": record[\"resposta\"]}],\n",
    "                        \"response_type\": \"text\",\n",
    "                        \"selection_policy\": \"sequential\",\n",
    "                    }\n",
    "                ]\n",
    "            },\n",
    "            \"context\": {\"contexto\": record[\"rótulos\"]},\n",
    "            \"conditions\": get_condition_string(record),\n",
    "            \"dialog_node\": f\"node_{uuid.uuid4().hex[:16]}\"\n",
    "        }\n",
    "        for record in records\n",
    "    ]\n",
    "    \n",
    "    # atribuir previous siblings\n",
    "    for i in range(len(dialog_nodes) - 1):\n",
    "        prev, node = dialog_nodes[i], dialog_nodes[i + 1]\n",
    "        node[\"previous_sibling\"] = prev[\"dialog_node\"]\n",
    "        \n",
    "    return dialog_nodes"
   ]
  },
  {
   "cell_type": "code",
   "execution_count": null,
   "id": "bb686cc2",
   "metadata": {},
   "outputs": [],
   "source": [
    "def get_skill(skill, **kwargs):\n",
    "    new_skill = deepcopy(skill)\n",
    "    for k, v in kwargs.items():\n",
    "        new_skill[k] = v\n",
    "    return new_skill"
   ]
  },
  {
   "cell_type": "code",
   "execution_count": null,
   "id": "1d81b0f9",
   "metadata": {},
   "outputs": [],
   "source": [
    "df = load_perguntas()\n",
    "df[~(df[\"exemplos\"]==\"\")]"
   ]
  },
  {
   "cell_type": "code",
   "execution_count": null,
   "id": "286b35a1",
   "metadata": {},
   "outputs": [],
   "source": [
    "skill_path = \"results/skill-Amazônia-Azul.json\"\n",
    "skill = load_skill(skill_path)"
   ]
  },
  {
   "cell_type": "code",
   "execution_count": null,
   "id": "fd75b548",
   "metadata": {},
   "outputs": [],
   "source": [
    "new_intents = get_intents(df)\n",
    "new_intents"
   ]
  },
  {
   "cell_type": "code",
   "execution_count": null,
   "id": "133f3862",
   "metadata": {
    "scrolled": true
   },
   "outputs": [],
   "source": [
    "new_entities = get_entities(df)\n",
    "new_entities"
   ]
  },
  {
   "cell_type": "code",
   "execution_count": null,
   "id": "6a6400ca",
   "metadata": {
    "scrolled": true
   },
   "outputs": [],
   "source": [
    "new_entities = get_synonyms(skill[\"entities\"], new_entities)\n",
    "new_entities"
   ]
  },
  {
   "cell_type": "code",
   "execution_count": null,
   "id": "29124fc7",
   "metadata": {
    "scrolled": true
   },
   "outputs": [],
   "source": [
    "new_dialog_nodes = get_dialog_nodes(df)\n",
    "new_dialog_nodes"
   ]
  },
  {
   "cell_type": "code",
   "execution_count": null,
   "id": "3b92c569",
   "metadata": {},
   "outputs": [],
   "source": [
    "new_skill = get_skill(skill, intents=new_intents, entities=new_entities, dialog_nodes=new_dialog_nodes)"
   ]
  },
  {
   "cell_type": "code",
   "execution_count": null,
   "id": "946bd594",
   "metadata": {},
   "outputs": [],
   "source": [
    "save_skill(skill_path, new_skill)"
   ]
  }
 ],
 "metadata": {
  "kernelspec": {
   "display_name": "Python [conda env:root] *",
   "language": "python",
   "name": "conda-root-py"
  },
  "language_info": {
   "codemirror_mode": {
    "name": "ipython",
    "version": 3
   },
   "file_extension": ".py",
   "mimetype": "text/x-python",
   "name": "python",
   "nbconvert_exporter": "python",
   "pygments_lexer": "ipython3",
   "version": "3.7.9"
  },
  "toc": {
   "base_numbering": 1,
   "nav_menu": {},
   "number_sections": true,
   "sideBar": true,
   "skip_h1_title": false,
   "title_cell": "Table of Contents",
   "title_sidebar": "Contents",
   "toc_cell": false,
   "toc_position": {},
   "toc_section_display": true,
   "toc_window_display": false
  },
  "varInspector": {
   "cols": {
    "lenName": 16,
    "lenType": 16,
    "lenVar": 40
   },
   "kernels_config": {
    "python": {
     "delete_cmd_postfix": "",
     "delete_cmd_prefix": "del ",
     "library": "var_list.py",
     "varRefreshCmd": "print(var_dic_list())"
    },
    "r": {
     "delete_cmd_postfix": ") ",
     "delete_cmd_prefix": "rm(",
     "library": "var_list.r",
     "varRefreshCmd": "cat(var_dic_list()) "
    }
   },
   "position": {
    "height": "249.85px",
    "left": "903px",
    "right": "20px",
    "top": "68px",
    "width": "543px"
   },
   "types_to_exclude": [
    "module",
    "function",
    "builtin_function_or_method",
    "instance",
    "_Feature"
   ],
   "window_display": false
  }
 },
 "nbformat": 4,
 "nbformat_minor": 5
}
