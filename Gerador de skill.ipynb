{
 "cells": [
  {
   "cell_type": "code",
   "execution_count": 143,
   "id": "3b31be28",
   "metadata": {},
   "outputs": [],
   "source": [
    "import numpy as np\n",
    "from copy import deepcopy\n",
    "import json\n",
    "import os\n",
    "from typing import List, Tuple\n",
    "import uuid\n",
    "import re\n",
    "import pandas as pd\n",
    "from IPython.display import display"
   ]
  },
  {
   "cell_type": "markdown",
   "id": "61871cb4",
   "metadata": {},
   "source": [
    "## Utilidades"
   ]
  },
  {
   "cell_type": "code",
   "execution_count": 144,
   "id": "59f48b9d",
   "metadata": {
    "code_folding": []
   },
   "outputs": [],
   "source": [
    "def plural(palavra: str) -> str:\n",
    "    \"\"\"\n",
    "    Passa uma palavra em português para o plural. Não funciona sempre,\n",
    "    devido à quantidade de exceções que precisam ser programadas à mão.\n",
    "    \"\"\"\n",
    "    palavra = palavra.strip()\n",
    "    if len(palavra.split(\" \")) > 1:\n",
    "        return palavra\n",
    "    if not palavra:\n",
    "        return palavra\n",
    "    invariaveis = [r\"x$\"]\n",
    "    for p in invariaveis:\n",
    "        if re.search(p, palavra):\n",
    "            return palavra\n",
    "    substituicoes = {\n",
    "        r\"ão\": r\"õe\",\n",
    "        r\"r$\": r\"re\",\n",
    "        r\"z$\": r\"ze\",\n",
    "        r\"s$\": r\"se\",\n",
    "        r\"(?<=[aeou])l\": r\"i\",\n",
    "        r\"il\": r\"ei\",\n",
    "        r\"m$\": r\"n\",\n",
    "    }\n",
    "    for p, s in substituicoes.items():\n",
    "        palavra = re.sub(p, s, palavra)\n",
    "    return palavra + \"s\" if palavra[-1] != \"s\" else palavra\n",
    "\n",
    "def sanitize(palavra: str) -> str:\n",
    "    \"\"\"Substitui caracteres acentuados.\"\"\"\n",
    "    substituicoes = {\n",
    "        \"a\": [\"á\", \"â\", \"ã\", \"à\"],\n",
    "        \"c\": [\"ç\"],\n",
    "        \"e\": [\"é\", \"ê\"],\n",
    "        \"i\": [\"í\"],\n",
    "        \"o\": [\"ó\", \"ô\", \"õ\"],\n",
    "        \"u\": [\"ú\", \"ü\"],\n",
    "    }\n",
    "    for substituta, letras in substituicoes.items():\n",
    "        for letra in letras:\n",
    "            palavra = palavra.replace(letra, substituta)\n",
    "    return palavra"
   ]
  },
  {
   "cell_type": "code",
   "execution_count": 145,
   "id": "d5bdc81f",
   "metadata": {
    "code_folding": []
   },
   "outputs": [],
   "source": [
    "def drop_duplicates(ls: list) -> list:\n",
    "    \"\"\"Remove elementos duplicados ou vazios.\"\"\"\n",
    "    return list(filter(None, set(ls)))\n",
    "\n",
    "def flatten(ls: list) -> list:\n",
    "    \"\"\"Reduz em 1 a dimensão de uma lista.\"\"\"\n",
    "    return [item for sublist in ls for item in sublist]\n",
    "\n",
    "def remove(ls: list, to_remove: list) -> list:\n",
    "    \"\"\"Remove de uma lista quaisquer elementos que estejam em outra.\"\"\"\n",
    "    return [item for item in ls if item not in to_remove]\n",
    "\n",
    "def is_flat(x) -> bool:\n",
    "    \"\"\"Retorna verdadeiro se a entrada não for um dicionário nem uma lista.\"\"\"\n",
    "    return not (isinstance(x, list) or isinstance(x, dict))\n",
    "\n",
    "def is_flat_list(x) -> bool:\n",
    "    \"\"\"Retorna verdadeiro se a lista for plana.\"\"\"\n",
    "    return all(is_flat(y) for y in x)\n",
    "\n",
    "def mix_list(a, b) -> list:\n",
    "    \"\"\"\n",
    "    Realiza um outer join entre duas listas planas ou que contêm dicionários.\n",
    "    \"\"\"\n",
    "    if is_flat_list(a) and is_flat_list(b):\n",
    "        return drop_duplicates(a + b)\n",
    "    elif is_flat_list(a) or is_flat_list(b):\n",
    "        raise ValueError(a, b)\n",
    "\n",
    "    a_dict, a_key = to_dict(a)\n",
    "    b_dict, b_key = to_dict(b)\n",
    "    if a_key != b_key:\n",
    "        raise ValueError(f\"A different global key was found for each list: {a_key} \"\n",
    "                         f\"and {b_key}, respectively\")\n",
    "    mixed_dicts = mix_dict(a_dict, b_dict)\n",
    "    return list(mixed_dicts.values())\n",
    "\n",
    "def to_dict(ls: List[dict]) -> Tuple[dict, str]:\n",
    "    \"\"\"\n",
    "    Transforma uma lista de dicionários em um dicionário de dicionários, \n",
    "    inferindo como chave para cada dict algum valor dele que seja presente\n",
    "    em todos os dicts, único em cada um e plano.\n",
    "    \"\"\"\n",
    "    if len(ls) == 1:\n",
    "        return {\"placeholder_key\": ls[0]}, \"placeholder_key\"\n",
    "    d = ls[0]\n",
    "    global_keys = []\n",
    "    hardcoded_precedence = {\"conditions\": 1, \"title\": 0}\n",
    "    for key in d:\n",
    "        # se o valor dessa chave não for plano\n",
    "        if not is_flat(d[key]):\n",
    "            # print(key, \"is not flat\")\n",
    "            continue\n",
    "        # se nem todos dicts tiverem essa chave\n",
    "        if not all(key in d_ for d_ in ls):\n",
    "            # print(key, \"is not in every dict\")\n",
    "            continue\n",
    "        # se nem todos os dicts tiverem um valor para essa chave\n",
    "        if not all(bool(d_[key]) for d_ in ls):\n",
    "            # print(key, \"doesnt have a value in all dicts\")\n",
    "            continue\n",
    "        # se cada dict não tiver um valor único para essa chave\n",
    "        if not len(set(d_[key] for d_ in ls)) == len(ls):\n",
    "            # print(key, \"doesnt have all unique values\")\n",
    "            continue\n",
    "        global_keys.append(key)\n",
    "\n",
    "    if not global_keys:\n",
    "        raise ValueError(f\"Could not find a global key for {ls}\")\n",
    "    global_keys.sort(key=lambda x: hardcoded_precedence.get(x, 999))\n",
    "    global_key = global_keys[0]\n",
    "    return {d_[global_key]: d_ for d_ in ls}, global_key\n",
    "\n",
    "def mix_dict(a: dict, b: dict) -> dict:\n",
    "    \"\"\"\n",
    "    Retorna um dicionário contendo as chaves e valores de ambos dicionários\n",
    "    de entrada, dando preferência para os valores de b.\n",
    "    \"\"\"\n",
    "    out = deepcopy(b)\n",
    "    for k, v in a.items():\n",
    "        if k not in out:\n",
    "            out[k] = v\n",
    "        elif isinstance(v, list):\n",
    "            if not isinstance(b[k], list):\n",
    "                raise ValueError(f\"a é uma lista em {k}, mas b é {type(b[k])}\")\n",
    "            out[k] = mix_list(v, b[k])\n",
    "        elif isinstance(v, dict):\n",
    "            if not isinstance(b[k], dict):\n",
    "                raise ValueError(f\"a é um dict em {k}, mas b é {type(b[k])}\")\n",
    "            out[k] = mix_dict(v, b[k])\n",
    "        else:\n",
    "            out[k] = v\n",
    "    return out\n",
    "\n",
    "def remove_nans(d: dict) -> dict:\n",
    "    \"\"\"Removes keys with nan value from a dict\"\"\"\n",
    "    return {k : v for k, v in d.items() if v not in [np.nan]}"
   ]
  },
  {
   "cell_type": "markdown",
   "id": "7461f97c",
   "metadata": {},
   "source": [
    "## I/O"
   ]
  },
  {
   "cell_type": "code",
   "execution_count": 146,
   "id": "440dc023",
   "metadata": {},
   "outputs": [],
   "source": [
    "def load_questions() -> pd.DataFrame:\n",
    "    df = pd.read_excel(\"results/Perguntas.xlsx\", sheet_name=\"finais\")\n",
    "    df = df.dropna(subset=[\"Resposta\"])\n",
    "    subs = {\n",
    "        \"Pergunta\": \"pergunta\",\n",
    "        \"Resposta\": \"resposta\",\n",
    "        \"Intenção\": \"intent\",\n",
    "        \"Rótulos\": \"rótulos\",\n",
    "        \"Modificador\": \"modificador\",\n",
    "        \"Substantivo\": \"substantivo\",\n",
    "        \"Recipiente\": \"recipiente\",\n",
    "        \"Elocuções\": \"examples\",\n",
    "    }\n",
    "    df = df[list(subs.keys())]\n",
    "    df = df.rename(columns=subs)\n",
    "    df = df.fillna(\"\")\n",
    "    return df\n",
    "\n",
    "def load_skill(file_path: str) -> dict:\n",
    "    with open(file_path, \"r\", encoding=\"utf-8\") as f:\n",
    "        sk = json.load(f)\n",
    "    return sk\n",
    "\n",
    "def save_skill(file_path: str, to_save: dict):\n",
    "    root, extension = os.path.splitext(file_path)\n",
    "    new_skill_path = f\"{root}2{extension}\"\n",
    "    with open(new_skill_path, \"w\", encoding=\"utf-8\") as f:\n",
    "        json.dump(to_save, f, ensure_ascii=False)\n",
    "    print(f\"Skill saved as {new_skill_path}!\")"
   ]
  },
  {
   "cell_type": "markdown",
   "id": "cb5dfb0c",
   "metadata": {},
   "source": [
    "## Intenções"
   ]
  },
  {
   "cell_type": "code",
   "execution_count": 147,
   "id": "a7d50825",
   "metadata": {},
   "outputs": [],
   "source": [
    "def get_intents(df: pd.DataFrame) -> dict:\n",
    "    subset = [\"intent\", \"pergunta\", \"examples\"]\n",
    "    records = df[subset].to_dict(orient=\"records\")\n",
    "    intents = [\n",
    "        {\n",
    "            \"intent\": record[\"intent\"],\n",
    "            \"examples\": get_examples(record),\n",
    "            \"description\": \"\",\n",
    "        }\n",
    "        for record in records\n",
    "    ]\n",
    "    intents.sort(key=lambda x: x[\"intent\"])\n",
    "    return intents\n",
    "\n",
    "def get_examples(record: dict) -> List:\n",
    "    # a própria pergunta é um exemplo\n",
    "    out = [{\"text\": record[\"pergunta\"]}]\n",
    "    # tudo que está em Elocuções é exemplo também\n",
    "    if record[\"examples\"]:\n",
    "        out += [{\"text\": exemplo} for exemplo in record[\"examples\"].split(\"--\")]\n",
    "    return out"
   ]
  },
  {
   "cell_type": "markdown",
   "id": "a808686f",
   "metadata": {},
   "source": [
    "## Entidades"
   ]
  },
  {
   "cell_type": "code",
   "execution_count": 148,
   "id": "8def953b",
   "metadata": {},
   "outputs": [],
   "source": [
    "def get_entities(df):\n",
    "    subset = [\"rótulos\", \"modificador\", \"substantivo\", \"recipiente\"]\n",
    "    entities = [\n",
    "        {\"entity\": col, \"values\": get_entity_values(df[col]), \"fuzzy_match\": True}\n",
    "        for col in subset\n",
    "    ]\n",
    "    entities.sort(key=lambda x: x[\"entity\"])\n",
    "    return entities\n",
    "\n",
    "def get_entity_values(series):\n",
    "    records = series.drop_duplicates().to_list()\n",
    "    records = [r.split(\"-\") for r in records]\n",
    "    records = flatten(records)\n",
    "    records = drop_duplicates(records)\n",
    "    values = [\n",
    "        {\"type\": \"synonyms\", \"value\": record, \"synonyms\": []} for record in records\n",
    "    ]\n",
    "    return values"
   ]
  },
  {
   "cell_type": "markdown",
   "id": "62b903d3",
   "metadata": {},
   "source": [
    "## Nós de diálogo"
   ]
  },
  {
   "cell_type": "code",
   "execution_count": 149,
   "id": "d136d467",
   "metadata": {
    "code_folding": [],
    "scrolled": true
   },
   "outputs": [],
   "source": [
    "def get_dialog_nodes(df: pd.DataFrame) -> dict:\n",
    "    records = df.to_dict(orient=\"records\")\n",
    "    nodes = [\n",
    "        {\n",
    "            \"type\": \"standard\",\n",
    "            \"title\": get_titulo(record),\n",
    "            \"output\": {\n",
    "                \"generic\": [\n",
    "                    {\n",
    "                        \"values\": [{\"text\": record[\"resposta\"]}],\n",
    "                        \"response_type\": \"text\",\n",
    "                        \"selection_policy\": \"sequential\",\n",
    "                    }\n",
    "                ]\n",
    "            },\n",
    "            \"context\": {\"contexto\": sanitize(record[\"rótulos\"])},\n",
    "            \"conditions\": get_all_conditions(record),\n",
    "            \"dialog_node\": f\"node_{uuid.uuid4().hex[:16]}\"\n",
    "        }\n",
    "        for record in records\n",
    "    ]\n",
    "    nodes.sort(key=lambda x: x[\"conditions\"])\n",
    "    return nodes\n",
    "\n",
    "def get_titulo(js: dict) -> str:\n",
    "    \"\"\"\n",
    "    Retorna um título para o nó baseado no modificador, substantivo, recipiente\n",
    "    e rótulos.\n",
    "    :param js: nó\n",
    "    :return: título\n",
    "    \"\"\"\n",
    "    modificador = js[\"modificador\"]\n",
    "    substantivo = js[\"substantivo\"].replace(\"-\", \" \")\n",
    "    recipiente = js[\"recipiente\"].replace(\"-\", \" \")\n",
    "    \n",
    "    contextos = get_contextos(js[\"rótulos\"].split(\"_\"))\n",
    "    contextos = list(map(lambda x: x.replace(\"-\", \" \"), contextos))\n",
    "    trechos = []\n",
    "    if contextos:\n",
    "        trechos.append(f\"{'/'.join(contextos)}:\")\n",
    "    \n",
    "    if modificador in [\"efeito\"]:\n",
    "        trechos.append(modificador)\n",
    "        if substantivo:\n",
    "            trechos.append(f\"de {substantivo}\")\n",
    "        recipiente = recipiente or contextos[0]\n",
    "        trechos.append(f\"em {recipiente}\")\n",
    "    elif modificador in [\"definição\"]:\n",
    "        trechos.append(modificador)\n",
    "        if substantivo and recipiente:\n",
    "            raise ValueError(f\"Perguntas do tipo 'definição' não podem ter substantivo e recipiente, \"\n",
    "                             \"apenas um deles! Pergunta: {js['pergunta']}\")\n",
    "        elif substantivo or recipiente:\n",
    "            trechos.append(f\"de {substantivo or recipiente}\")\n",
    "    elif modificador in [\"maiores\", \"menores\"]:\n",
    "        substituir = {\"produção\": \"produtores\"}\n",
    "        if recipiente in substituir:\n",
    "            recipiente = substituir[recipiente]\n",
    "        substantivo = plural(substantivo)\n",
    "        if recipiente:\n",
    "            trechos.append(f\"{modificador} {substantivo} {recipiente}?\")\n",
    "        else:\n",
    "            trechos.append(f\"{modificador} {substantivo}?\")\n",
    "    elif modificador in [\"diferença\"]:\n",
    "        recipiente = recipiente or contextos[0]\n",
    "        trechos.append(f\"{modificador} entre {substantivo} e {recipiente}?\")\n",
    "    elif modificador in [\"existe\", \"quantidade\"]:\n",
    "        recipiente = recipiente or \"no Brasil\"\n",
    "        trechos.append(modificador)\n",
    "        if substantivo:\n",
    "            trechos.append(substantivo)\n",
    "        trechos.append(f\"{recipiente}?\")\n",
    "    elif modificador in [\"listar\"]:\n",
    "        substituir = {\"extinção\": \"em extinção\", \"aaz\": \"na Amazônia Azul\", \"brasil\": \"no Brasil\"}\n",
    "        if recipiente in substituir:\n",
    "            recipiente = substituir[recipiente]\n",
    "        substantivo = plural(substantivo)\n",
    "        trechos.append(f\"exemplos de {substantivo} {recipiente}\")\n",
    "    elif modificador in [\"pertence\"]:\n",
    "        if substantivo and recipiente:\n",
    "            trechos.append(f\"{substantivo} é um {recipiente}?\")\n",
    "        elif substantivo:\n",
    "            trechos.append(f\"{substantivo} é um {contextos[0]}?\")\n",
    "        elif recipiente:\n",
    "            trechos.append(f\"{contextos[0]} é um {recipiente}?\")\n",
    "        else:\n",
    "            raise ValueError(f\"Perguntas do tipo 'pertence' precisam de substantivo ou de recipiente! Pergunta: {js['pergunta']}\")\n",
    "    else:\n",
    "        trechos.append(modificador)\n",
    "        if substantivo:\n",
    "            trechos.append(substantivo)\n",
    "        if recipiente:\n",
    "            trechos.append(recipiente)\n",
    "    trechos[0] = trechos[0].capitalize()\n",
    "    titulo = \" \".join(trechos)\n",
    "    titulo = titulo.strip()\n",
    "    return titulo\n",
    "\n",
    "def get_contextos(rotulos):\n",
    "    \"\"\"\n",
    "    Devolve os contextos de uma pergunta baseado em seus rótulos,\n",
    "    sendo que há uma lista de rótulos que não definem contexto.\n",
    "    \"\"\"\n",
    "    rotulos_nao_contextuais = [\n",
    "        \"fauna\",\n",
    "        \"flora\",\n",
    "        \"outras\",\n",
    "        \"física\",\n",
    "        \"turismo\",\n",
    "        \"engenharia\",\n",
    "        \"saúde\",\n",
    "        \"geologia\",\n",
    "    ]\n",
    "    contextos = [contexto for contexto in rotulos if all(rot not in contexto for rot in rotulos_nao_contextuais)]\n",
    "    return contextos\n",
    "\n",
    "def get_all_conditions(js):\n",
    "    modificador = js[\"modificador\"]\n",
    "    substantivo = js[\"substantivo\"]\n",
    "    recipiente = js[\"recipiente\"]\n",
    "    rotulos = js[\"rótulos\"].split(\"_\") + [js[\"rótulos\"]]\n",
    "    rotulos = drop_duplicates(rotulos)\n",
    "    contextos = get_contextos(rotulos)\n",
    "\n",
    "    if contextos:\n",
    "        conds_adicionais = [get_single_condition(modificador, substantivo, recipiente, contexto) for contexto in contextos]\n",
    "    else:\n",
    "        conds_adicionais = [get_single_condition(modificador, substantivo, recipiente)]\n",
    "\n",
    "    conds = [f\"#{js['intent']}\"] + flatten(conds_adicionais)\n",
    "    cond_str = \" || \".join(conds)\n",
    "    return cond_str\n",
    "\n",
    "def get_single_condition(modificador, substantivo, recipiente, contexto=None) -> list:\n",
    "    trechos = [f\"@modificador:{modificador}\"]\n",
    "    if substantivo:\n",
    "        trechos.append(f\"&& @substantivo:{substantivo}\")\n",
    "    if recipiente:\n",
    "        trechos.append(f\"&& @recipiente:{recipiente}\")\n",
    "    cond = \" \".join(trechos)\n",
    "    if contexto:\n",
    "        contexto = sanitize(contexto)\n",
    "        out = [cond + f' && $contexto==\"{contexto}\"', cond + f\" && @rótulos:{contexto}\"]\n",
    "    else:\n",
    "        out = [cond]\n",
    "    return out\n",
    "\n",
    "def convert_to_list(df: pd.DataFrame) -> List[dict]:\n",
    "    list_of_dicts = df.to_dict(orient=\"records\")\n",
    "    return [remove_nans(d) for d in list_of_dicts]"
   ]
  },
  {
   "cell_type": "code",
   "execution_count": 150,
   "outputs": [],
   "source": [
    "class NodeOrganizer:\n",
    "    \"\"\"\n",
    "    Assumes nodes have either been added via the interface (manual) or generated automatically\n",
    "    by this script (generated). There is one special case, the last node (anything_else),\n",
    "    which was added via interface but must always be the last one.\n",
    "    \"\"\"\n",
    "    def __init__(self, nodes: List[dict]):\n",
    "        self._df = pd.DataFrame(nodes)\n",
    "        self._df[\"intent\"] = self._df.conditions.astype(str).apply(self._extract_intent)\n",
    "        self._separate_nodes()\n",
    "        self._get_manual_links()\n",
    "\n",
    "    @staticmethod\n",
    "    def _extract_intent(conditions: str) -> str:\n",
    "        search = re.search(r\"#(\\S+)\", conditions)\n",
    "        if search:\n",
    "            return search.group(1)\n",
    "        else:\n",
    "            return \"\"\n",
    "\n",
    "    def _separate_nodes(self):\n",
    "        self.anything_else_node = (self._df.conditions == \"anything_else\") & (self._df.parent.isna())\n",
    "        self.generated_nodes = ~self._df.dialog_node.str.match(r\"node_._\")\n",
    "        self.manual_nodes = ~self.generated_nodes & ~self.anything_else_node\n",
    "        self.df_anything_else = self._df[self.anything_else_node].copy()\n",
    "        self.df_generated = self._df[self.generated_nodes].copy()\n",
    "        self.df_manual = self._df[self.manual_nodes].copy()\n",
    "        self.root = self.df_manual.previous_sibling.isna() & self.df_manual.next_step.isna()\n",
    "        self.root_folder = self.root & (self.df_manual.type == \"folder\")\n",
    "\n",
    "    def _get_manual_links(self):\n",
    "        \"\"\"Annotate links from manual to generated nodes\"\"\"\n",
    "\n",
    "    def _build(self):\n",
    "        self._df = self.df_manual.append(self.df_generated).append(self.df_anything_else)\n",
    "        self._df.reset_index(drop=True, inplace=True)\n",
    "\n",
    "    @property\n",
    "    def df(self):\n",
    "        self._df.drop(columns=[\"intent\"], inplace=True, errors=\"ignore\")\n",
    "        return self._df\n",
    "\n",
    "    def run(self, intent_limit: int = 0):\n",
    "        self.sort_nodes()\n",
    "        self.limit_intents(intent_limit)\n",
    "        self.cleanup_previous_siblings()\n",
    "        self.fix_previous_siblings()\n",
    "\n",
    "    def sort_nodes(self):\n",
    "        self.sort_manual_nodes_by_previous_siblings()\n",
    "        self.df_generated.sort_values(by=[\"intent\"], inplace=True)\n",
    "        self._build()\n",
    "        self._separate_nodes()\n",
    "        print(\"Nodes sorted!\")\n",
    "\n",
    "    def sort_manual_nodes_by_previous_siblings(self):\n",
    "        df = self.df_manual\n",
    "        previous_siblings = df.previous_sibling.to_list()\n",
    "        parents = df.parent.to_list()\n",
    "        root = df.previous_sibling.isna() & df.next_step.isna()\n",
    "        root_folder = root & (df.type == \"folder\")\n",
    "        root_node = root & ~root_folder\n",
    "        df.loc[root_folder, \"order\"] = 0\n",
    "        df.loc[root_node, \"order\"] = 1\n",
    "\n",
    "        curr = 2\n",
    "        last_node = df[root_node].dialog_node.values[0]\n",
    "        last_parent = \"\"\n",
    "        while df.order.hasnans:\n",
    "            if last_node in parents:\n",
    "                next_node = (df.parent == last_node) & (df.previous_sibling.isna())\n",
    "                last_parent = last_node\n",
    "            elif last_node in previous_siblings:\n",
    "                next_node = df.previous_sibling == last_node\n",
    "            else:\n",
    "                next_node = df.previous_sibling == last_parent\n",
    "            df.loc[next_node, \"order\"] = curr\n",
    "            try:\n",
    "                last_node = df[next_node].dialog_node.values[0]\n",
    "            except IndexError:\n",
    "                break\n",
    "            curr += 1\n",
    "\n",
    "        df.sort_values(by=[\"order\"], inplace=True)\n",
    "        df.drop(\"order\", inplace=True, axis=1)\n",
    "\n",
    "    def cleanup_previous_siblings(self):\n",
    "        \"\"\"\n",
    "        Removes the previous_sibling field of a node when it references a non-existent\n",
    "        node identifier.\n",
    "        \"\"\"\n",
    "        self._df.loc[self.generated_nodes | self.anything_else_node, \"previous_sibling\"] = np.nan\n",
    "        self._separate_nodes()\n",
    "        print(\"Previous siblings cleaned up!\")\n",
    "\n",
    "    def fix_previous_siblings(self):\n",
    "        \"\"\"\n",
    "        Applies previous_sibling to nodes which don't have one (generated) based on the\n",
    "        node above. Then, connects the generated nodes to the manual nodes and the last\n",
    "        node (anything_else).\n",
    "        \"\"\"\n",
    "        no_upstream = self.df_generated.previous_sibling.isna() & self.df_generated.parent.isna()\n",
    "        df_no_upstream = self.df_generated[no_upstream].copy()\n",
    "        df_no_upstream.reset_index(inplace=True)\n",
    "        df_no_upstream.previous_sibling = df_no_upstream.dialog_node.shift(1)\n",
    "\n",
    "        # assign the last manual node as the previous sibling for the first generated node\n",
    "        last_manual_node = self.df_manual[self.root_folder].dialog_node[0]\n",
    "        df_no_upstream.loc[0, \"previous_sibling\"] = last_manual_node\n",
    "        df_no_upstream.set_index(\"index\", inplace=True)\n",
    "\n",
    "        # assign the last generated node as the previous sibling for the anything_else node\n",
    "        last_generated_node = self.df_generated.dialog_node.to_list()[-1]\n",
    "        self._df.loc[self.anything_else_node, \"previous_sibling\"] = last_generated_node\n",
    "\n",
    "        # overwrites self._df with values from df_no_upstream based on index\n",
    "        self._df.update(df_no_upstream)\n",
    "        print(\"Previous siblings fixed!\")\n",
    "\n",
    "    def limit_intents(self, limit: int):\n",
    "        if not limit:\n",
    "            return\n",
    "        manual_intents = self.df_manual.conditions.str.contains(r\"#\\S+\")\n",
    "        self.df_generated.drop(self.df_generated.tail(limit - manual_intents.sum()), inplace=True)\n",
    "        self._build()\n",
    "        self._separate_nodes()\n",
    "        print(\"Intents limited!\")\n",
    "\n",
    "    def get_intents(self)-> List[dict]:\n",
    "        intents = self._df.intent.to_list()\n",
    "        return drop_duplicates(intents)"
   ],
   "metadata": {
    "collapsed": false,
    "pycharm": {
     "name": "#%%\n"
    }
   }
  },
  {
   "cell_type": "markdown",
   "id": "994744bb",
   "metadata": {},
   "source": [
    "## Skill"
   ]
  },
  {
   "cell_type": "code",
   "execution_count": 151,
   "id": "bb686cc2",
   "metadata": {},
   "outputs": [],
   "source": [
    "def mix_skills(base, **kwargs):\n",
    "    new = deepcopy(base)\n",
    "    for k, v in kwargs.items():\n",
    "        new[k] = v\n",
    "    return new"
   ]
  },
  {
   "cell_type": "markdown",
   "id": "91421937",
   "metadata": {},
   "source": [
    "## Rodar"
   ]
  },
  {
   "cell_type": "code",
   "execution_count": 152,
   "id": "1d81b0f9",
   "metadata": {},
   "outputs": [
    {
     "data": {
      "text/plain": "                                  pergunta  \\\n29                        O que é onshore?   \n69   Por que tartarugas estão em extinção?   \n131     Com que frequência as marés mudam?   \n176                      O que é Chordata?   \n178                     O que é uma cnida?   \n\n                                              resposta  \\\n29   Os termos onshore e offshore, do inglês \"no li...   \n69   Além dos predadores naturais, a principal amea...   \n131  O mais comum é um regime semi-diurno, em que o...   \n176  Chordata, um dos filos do reino Animalia, é ca...   \n178  Cnida (ou nematocisto) é uma cápsula que conté...   \n\n                                   intent     rótulos modificador  \\\n29   petróleo--definição-onshore-offshore    petróleo   definição   \n69            tartarugas--motivo-extinção  tartarugas      motivo   \n131             maré--detalhar-frequência        maré    detalhar   \n176              fauna--definição-cordado       fauna   definição   \n178                fauna--definição-cnida       fauna   definição   \n\n          substantivo recipiente  \\\n29   onshore-offshore              \n69                      extinção   \n131        frequência              \n176           cordado              \n178             cnida              \n\n                                              examples  \n29                                   O que é offshore?  \n69                 Quais são as ameaças às tartarugas?  \n131  Qual é a periodicidade das marés?--Quais são o...  \n176                                O que são cordados?  \n178                            O que é um nematocisto?  ",
      "text/html": "<div>\n<style scoped>\n    .dataframe tbody tr th:only-of-type {\n        vertical-align: middle;\n    }\n\n    .dataframe tbody tr th {\n        vertical-align: top;\n    }\n\n    .dataframe thead th {\n        text-align: right;\n    }\n</style>\n<table border=\"1\" class=\"dataframe\">\n  <thead>\n    <tr style=\"text-align: right;\">\n      <th></th>\n      <th>pergunta</th>\n      <th>resposta</th>\n      <th>intent</th>\n      <th>rótulos</th>\n      <th>modificador</th>\n      <th>substantivo</th>\n      <th>recipiente</th>\n      <th>examples</th>\n    </tr>\n  </thead>\n  <tbody>\n    <tr>\n      <th>29</th>\n      <td>O que é onshore?</td>\n      <td>Os termos onshore e offshore, do inglês \"no li...</td>\n      <td>petróleo--definição-onshore-offshore</td>\n      <td>petróleo</td>\n      <td>definição</td>\n      <td>onshore-offshore</td>\n      <td></td>\n      <td>O que é offshore?</td>\n    </tr>\n    <tr>\n      <th>69</th>\n      <td>Por que tartarugas estão em extinção?</td>\n      <td>Além dos predadores naturais, a principal amea...</td>\n      <td>tartarugas--motivo-extinção</td>\n      <td>tartarugas</td>\n      <td>motivo</td>\n      <td></td>\n      <td>extinção</td>\n      <td>Quais são as ameaças às tartarugas?</td>\n    </tr>\n    <tr>\n      <th>131</th>\n      <td>Com que frequência as marés mudam?</td>\n      <td>O mais comum é um regime semi-diurno, em que o...</td>\n      <td>maré--detalhar-frequência</td>\n      <td>maré</td>\n      <td>detalhar</td>\n      <td>frequência</td>\n      <td></td>\n      <td>Qual é a periodicidade das marés?--Quais são o...</td>\n    </tr>\n    <tr>\n      <th>176</th>\n      <td>O que é Chordata?</td>\n      <td>Chordata, um dos filos do reino Animalia, é ca...</td>\n      <td>fauna--definição-cordado</td>\n      <td>fauna</td>\n      <td>definição</td>\n      <td>cordado</td>\n      <td></td>\n      <td>O que são cordados?</td>\n    </tr>\n    <tr>\n      <th>178</th>\n      <td>O que é uma cnida?</td>\n      <td>Cnida (ou nematocisto) é uma cápsula que conté...</td>\n      <td>fauna--definição-cnida</td>\n      <td>fauna</td>\n      <td>definição</td>\n      <td>cnida</td>\n      <td></td>\n      <td>O que é um nematocisto?</td>\n    </tr>\n  </tbody>\n</table>\n</div>"
     },
     "execution_count": 152,
     "metadata": {},
     "output_type": "execute_result"
    }
   ],
   "source": [
    "questions = load_questions()\n",
    "questions[~(questions[\"examples\"]==\"\")]"
   ]
  },
  {
   "cell_type": "code",
   "execution_count": 153,
   "id": "286b35a1",
   "metadata": {},
   "outputs": [],
   "source": [
    "skill_path = \"results/skill-Amazônia-Azul.json\"\n",
    "skill = load_skill(skill_path)"
   ]
  },
  {
   "cell_type": "code",
   "execution_count": 154,
   "id": "fd75b548",
   "metadata": {},
   "outputs": [
    {
     "name": "stdout",
     "output_type": "stream",
     "text": [
      "Intents obtained!\n",
      "Intents mixed!\n"
     ]
    }
   ],
   "source": [
    "new_intents = get_intents(questions)\n",
    "print(\"Intents obtained!\")\n",
    "mixed_intents = mix_list(skill[\"intents\"], new_intents)\n",
    "print(\"Intents mixed!\")"
   ]
  },
  {
   "cell_type": "code",
   "execution_count": 155,
   "outputs": [
    {
     "name": "stdout",
     "output_type": "stream",
     "text": [
      "Entities obtained!\n",
      "Entities mixed!\n"
     ]
    }
   ],
   "source": [
    "new_entities = get_entities(questions)\n",
    "print(\"Entities obtained!\")\n",
    "mixed_entities = mix_list(skill[\"entities\"], new_entities)\n",
    "print(\"Entities mixed!\")"
   ],
   "metadata": {
    "collapsed": false,
    "pycharm": {
     "name": "#%%\n"
    }
   }
  },
  {
   "cell_type": "code",
   "execution_count": 156,
   "id": "29124fc7",
   "metadata": {
    "scrolled": true
   },
   "outputs": [
    {
     "name": "stdout",
     "output_type": "stream",
     "text": [
      "Nodes obtained!\n",
      "Nodes mixed!\n"
     ]
    }
   ],
   "source": [
    "new_nodes = get_dialog_nodes(questions)\n",
    "print(\"Nodes obtained!\")\n",
    "mixed_nodes = mix_list(skill[\"dialog_nodes\"], new_nodes)\n",
    "print(\"Nodes mixed!\")"
   ]
  },
  {
   "cell_type": "code",
   "execution_count": 157,
   "outputs": [
    {
     "name": "stdout",
     "output_type": "stream",
     "text": [
      "Nodes sorted!\n",
      "Previous siblings cleaned up!\n",
      "Previous siblings fixed!\n"
     ]
    }
   ],
   "source": [
    "node_organizer = NodeOrganizer(mixed_nodes)\n",
    "node_organizer.run()"
   ],
   "metadata": {
    "collapsed": false,
    "pycharm": {
     "name": "#%%\n"
    }
   }
  },
  {
   "cell_type": "code",
   "execution_count": 158,
   "outputs": [],
   "source": [
    "used_intents = node_organizer.get_intents()\n",
    "mixed_intents = [intent for intent in mixed_intents if intent[\"intent\"] in used_intents]\n"
   ],
   "metadata": {
    "collapsed": false,
    "pycharm": {
     "name": "#%%\n"
    }
   }
  },
  {
   "cell_type": "code",
   "execution_count": 159,
   "id": "3b92c569",
   "metadata": {
    "pycharm": {
     "name": "#%%\n"
    }
   },
   "outputs": [
    {
     "name": "stdout",
     "output_type": "stream",
     "text": [
      "Skill saved as results/skill-Amazônia-Azul2.json!\n"
     ]
    }
   ],
   "source": [
    "mixed_nodes = convert_to_list(node_organizer.df)\n",
    "mixed_skill = mix_skills(skill, intents=mixed_intents, entities=mixed_entities, dialog_nodes=mixed_nodes)\n",
    "save_skill(skill_path, mixed_skill)"
   ]
  },
  {
   "cell_type": "code",
   "execution_count": 159,
   "outputs": [],
   "source": [],
   "metadata": {
    "collapsed": false,
    "pycharm": {
     "name": "#%%"
    }
   }
  }
 ],
 "metadata": {
  "kernelspec": {
   "display_name": "Python [conda env:root] *",
   "language": "python",
   "name": "conda-root-py"
  },
  "language_info": {
   "codemirror_mode": {
    "name": "ipython",
    "version": 3
   },
   "file_extension": ".py",
   "mimetype": "text/x-python",
   "name": "python",
   "nbconvert_exporter": "python",
   "pygments_lexer": "ipython3",
   "version": "3.7.9"
  },
  "toc": {
   "base_numbering": 1,
   "nav_menu": {},
   "number_sections": true,
   "sideBar": true,
   "skip_h1_title": false,
   "title_cell": "Table of Contents",
   "title_sidebar": "Contents",
   "toc_cell": false,
   "toc_position": {
    "height": "calc(100% - 180px)",
    "left": "10px",
    "top": "150px",
    "width": "276.475px"
   },
   "toc_section_display": true,
   "toc_window_display": true
  },
  "varInspector": {
   "cols": {
    "lenName": 16,
    "lenType": 16,
    "lenVar": 40
   },
   "kernels_config": {
    "python": {
     "delete_cmd_postfix": "",
     "delete_cmd_prefix": "del ",
     "library": "var_list.py",
     "varRefreshCmd": "print(var_dic_list())"
    },
    "r": {
     "delete_cmd_postfix": ") ",
     "delete_cmd_prefix": "rm(",
     "library": "var_list.r",
     "varRefreshCmd": "cat(var_dic_list()) "
    }
   },
   "position": {
    "height": "249.85px",
    "left": "903px",
    "right": "20px",
    "top": "68px",
    "width": "543px"
   },
   "types_to_exclude": [
    "module",
    "function",
    "builtin_function_or_method",
    "instance",
    "_Feature"
   ],
   "window_display": false
  }
 },
 "nbformat": 4,
 "nbformat_minor": 5
}