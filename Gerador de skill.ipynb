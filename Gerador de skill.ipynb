{
 "cells": [
  {
   "cell_type": "code",
   "execution_count": null,
   "id": "3b31be28",
   "metadata": {},
   "outputs": [],
   "source": [
    "from copy import deepcopy\n",
    "import json\n",
    "import os\n",
    "from typing import List\n",
    "import uuid\n",
    "import re\n",
    "import pandas as pd"
   ]
  },
  {
   "cell_type": "markdown",
   "id": "61871cb4",
   "metadata": {},
   "source": [
    "## Utilidades"
   ]
  },
  {
   "cell_type": "code",
   "execution_count": null,
   "id": "59f48b9d",
   "metadata": {},
   "outputs": [],
   "source": [
    "def drop_duplicates(ls: list) -> list:\n",
    "    return list(filter(None, set(ls)))\n",
    "\n",
    "def flatten(ls: list) -> list:\n",
    "    return [item for sublist in ls for item in sublist]\n",
    "\n",
    "def remove(ls: list, to_remove: list) -> list:\n",
    "    return [item for item in ls if item not in to_remove]\n",
    "\n",
    "def plural(palavra: str) -> str:\n",
    "    \"\"\"\n",
    "    Passa uma palavra em português para o plural. Não funciona sempre,\n",
    "    devido à quantidade de exceções que precisam ser programadas à mão.\n",
    "    \"\"\"\n",
    "    palavra = palavra.strip()\n",
    "    invariaveis = [r\"x$\"]\n",
    "    for p in invariaveis:\n",
    "        if re.search(p, palavra):\n",
    "            return palavra\n",
    "    substituicoes = {\n",
    "        r\"ão\": r\"õe\",\n",
    "        r\"r$\": r\"re\",\n",
    "        r\"z$\": r\"ze\",\n",
    "        r\"s$\": r\"se\",\n",
    "        r\"(?<=[aeou])l\": r\"i\",\n",
    "        r\"il\": r\"ei\",\n",
    "        r\"m$\": r\"n\",\n",
    "    }\n",
    "    for p, s in substituicoes.items():\n",
    "        palavra = re.sub(p, s, palavra)\n",
    "    return palavra + \"s\" if palavra[-1] != \"s\" else palavra\n",
    "\n",
    "def sanitize(palavra: str) -> str:\n",
    "    \"\"\"Substitui caracteres acentuados.\"\"\"\n",
    "    substituicoes = {\n",
    "        \"a\": [\"á\", \"â\", \"ã\", \"à\"],\n",
    "        \"c\": [\"ç\"],\n",
    "        \"e\": [\"é\", \"ê\"],\n",
    "        \"i\": [\"í\"],\n",
    "        \"o\": [\"ó\", \"ô\", \"õ\"],\n",
    "        \"u\": [\"ú\", \"ü\"],\n",
    "    }\n",
    "    for substituta, letras in substituicoes.items():\n",
    "        for letra in letras:\n",
    "            palavra = palavra.replace(letra, substituta)\n",
    "    return palavra"
   ]
  },
  {
   "cell_type": "code",
   "execution_count": null,
   "id": "d5bdc81f",
   "metadata": {},
   "outputs": [],
   "source": [
    "def is_flat(x):\n",
    "    return not (isinstance(x, list) or isinstance(x, dict))\n",
    "\n",
    "def is_flat_list(x):\n",
    "    return all(is_flat(y) for y in x)\n",
    "\n",
    "def mix_list(a, b):\n",
    "    \"\"\"\n",
    "    Realiza um outer join entre duas listas planas ou que contêm dicionários.\n",
    "    \"\"\"\n",
    "    if is_flat_list(a) and is_flat_list(b):\n",
    "        return drop_duplicates(a + b)\n",
    "    elif is_flat_list(a) or is_flat_list(b):\n",
    "        raise ValueError(a, b)\n",
    "    \n",
    "    a_dict = to_dict(a)\n",
    "    b_dict = to_dict(b)\n",
    "    mixed_dicts = mix_dict(a_dict, b_dict)\n",
    "    return list(mixed_dicts.values())\n",
    "\n",
    "def to_dict(ls: List[dict]):\n",
    "    \"\"\"\n",
    "    Transforma uma lista de dicionários em um dicionário de dicionários, \n",
    "    inferindo como chave para cada dict algum valor dele que seja presente\n",
    "    em todos os dicts, único em cada um e plano.\n",
    "    \"\"\"\n",
    "    if len(ls) == 1:\n",
    "        return {\"placeholder_key\": ls[0]}\n",
    "    d = ls[0]\n",
    "    global_key = None\n",
    "    for key in d:\n",
    "        # se a chave for uma das hardcoded\n",
    "        if key in [\"conditions\"]:\n",
    "            global_key = key\n",
    "            break\n",
    "        # se o valor dessa chave não for plano\n",
    "        if not is_flat(d[key]):\n",
    "            continue\n",
    "        # se nem todos dicts tiverem essa chave\n",
    "        if not all(key in d_ for d_ in ls):\n",
    "            continue\n",
    "        # se nem todos os dicts tiverem um valor para essa chave\n",
    "        if not all(bool(d_[key]) for d_ in ls):\n",
    "            continue\n",
    "        # se cada dict não tiver um valor único para essa chave\n",
    "        if not len(set(d_[key] for d_ in ls)) == len(ls):\n",
    "            continue\n",
    "        # se já tiver encontrado uma chave global\n",
    "        if global_key:\n",
    "            raise ValueError(f\"Mais de uma possível chave global encontrada para {ls}: {key}, {global_key}\")\n",
    "        global_key = key\n",
    "        \n",
    "    if not global_key:\n",
    "        raise ValueError(f\"Não encontrei chave global para {ls}\")\n",
    "    return {d_[global_key]: d_ for d_ in ls}\n",
    "    \n",
    "def mix_dict(a, b):\n",
    "    \"\"\"\n",
    "    Retorna um dicionário contendo as chaves e valores de ambos dicionários\n",
    "    de entrada, dando preferência para os valores de b.\n",
    "    \"\"\"\n",
    "    out = deepcopy(b)\n",
    "    for k, v in a.items():\n",
    "        if k not in out:\n",
    "            out[k] = v\n",
    "        elif isinstance(v, list):\n",
    "            if not isinstance(b[k], list):\n",
    "                raise ValueError(f\"a é uma lista em {k}, mas b é {type(b[k])}\")\n",
    "            out[k] = mix_list(v, b[k])\n",
    "        elif isinstance(v, dict):\n",
    "            if not isinstance(b[k], dict):\n",
    "                raise ValueError(f\"a é um dict em {k}, mas b é {type(b[k])}\")\n",
    "            out[k] = mix_dict(v, b[k])\n",
    "        else:\n",
    "            out[k] = v\n",
    "    return out\n",
    "            "
   ]
  },
  {
   "cell_type": "markdown",
   "id": "7461f97c",
   "metadata": {},
   "source": [
    "## I/O"
   ]
  },
  {
   "cell_type": "code",
   "execution_count": null,
   "id": "440dc023",
   "metadata": {},
   "outputs": [],
   "source": [
    "def load_perguntas():\n",
    "    df = pd.read_excel(\"results/Perguntas.xlsx\", sheet_name=\"finais\")\n",
    "    df = df.dropna(subset=[\"Resposta\"])\n",
    "    subs = {\n",
    "        \"Pergunta\": \"pergunta\",\n",
    "        \"Resposta\": \"resposta\",\n",
    "        \"Intenção\": \"intent\",\n",
    "        \"Rótulos\": \"rótulos\",\n",
    "        \"Modificador\": \"modificador\",\n",
    "        \"Substantivo\": \"substantivo\",\n",
    "        \"Recipiente\": \"recipiente\",\n",
    "        \"Elocuções\": \"examples\",\n",
    "    }\n",
    "    df = df[list(subs.keys())]\n",
    "    df = df.rename(columns=subs)\n",
    "    df = df.fillna(\"\")\n",
    "    subset_accents = [\"rótulos\", \"modificador\", \"substantivo\", \"recipiente\"]\n",
    "    return df\n",
    "\n",
    "def load_skill(skill_path):\n",
    "    with open(skill_path, \"r\", encoding=\"utf-8\") as f:\n",
    "        skill = json.load(f)\n",
    "    return skill\n",
    "\n",
    "def save_skill(skill_path, skill):\n",
    "    root, extension = os.path.splitext(skill_path)\n",
    "    new_skill_path = f\"{root}2{extension}\"\n",
    "    with open(new_skill_path, \"w\", encoding=\"utf-8\") as f:\n",
    "        json.dump(skill, f, ensure_ascii=False)"
   ]
  },
  {
   "cell_type": "markdown",
   "id": "cb5dfb0c",
   "metadata": {},
   "source": [
    "## Intenções"
   ]
  },
  {
   "cell_type": "code",
   "execution_count": null,
   "id": "a7d50825",
   "metadata": {},
   "outputs": [],
   "source": [
    "def get_intents(df: pd.DataFrame):\n",
    "    subset = [\"intent\", \"pergunta\", \"examples\"]\n",
    "    records = df[subset].to_dict(orient=\"records\")\n",
    "    intents = [\n",
    "        {\n",
    "            \"intent\": record[\"intent\"],\n",
    "            \"examples\": get_examples(record),\n",
    "            \"description\": \"\",\n",
    "        }\n",
    "        for record in records\n",
    "    ]\n",
    "    return intents\n",
    "\n",
    "def get_examples(record: dict) -> List:\n",
    "    # a própria pergunta é um exemplo\n",
    "    out = [{\"text\": record[\"pergunta\"]}]\n",
    "    # tudo que está em Elocuções é exemplo também\n",
    "    if record[\"examples\"]:\n",
    "        out += [{\"text\": exemplo} for exemplo in record[\"examples\"].split(\"--\")]\n",
    "    return out"
   ]
  },
  {
   "cell_type": "markdown",
   "id": "a808686f",
   "metadata": {},
   "source": [
    "## Entidades"
   ]
  },
  {
   "cell_type": "code",
   "execution_count": null,
   "id": "8def953b",
   "metadata": {},
   "outputs": [],
   "source": [
    "def get_entity_values(series):\n",
    "    records = series.drop_duplicates().to_list()\n",
    "    records = [r.split(\"-\") for r in records]\n",
    "    records = flatten(records)\n",
    "    records = drop_duplicates(records)\n",
    "    values = [\n",
    "        {\"type\": \"synonyms\", \"value\": record, \"synonyms\": []} for record in records\n",
    "    ]\n",
    "    return values\n",
    "\n",
    "def get_entities(df):\n",
    "    subset = [\"rótulos\", \"modificador\", \"substantivo\", \"recipiente\"]\n",
    "    entities = [\n",
    "        {\"entity\": col, \"values\": get_entity_values(df[col]), \"fuzzy_match\": True}\n",
    "        for col in subset\n",
    "    ]\n",
    "    return entities"
   ]
  },
  {
   "cell_type": "markdown",
   "id": "62b903d3",
   "metadata": {},
   "source": [
    "## Nós de diálogo"
   ]
  },
  {
   "cell_type": "code",
   "execution_count": null,
   "id": "18efbf3e",
   "metadata": {},
   "outputs": [],
   "source": [
    "ls = [\"listar\", \"crustáceo\"]\n",
    "ls[0] = ls[0].capitalize()\n",
    "ls"
   ]
  },
  {
   "cell_type": "code",
   "execution_count": null,
   "id": "d136d467",
   "metadata": {
    "code_folding": [],
    "scrolled": true
   },
   "outputs": [],
   "source": [
    "def get_dialog_nodes(df):\n",
    "    records = df.to_dict(orient=\"records\")\n",
    "    dialog_nodes = [\n",
    "        {\n",
    "            \"type\": \"standard\",\n",
    "            \"title\": get_titulo(record),\n",
    "            \"output\": {\n",
    "                \"generic\": [\n",
    "                    {\n",
    "                        \"values\": [{\"text\": record[\"resposta\"]}],\n",
    "                        \"response_type\": \"text\",\n",
    "                        \"selection_policy\": \"sequential\",\n",
    "                    }\n",
    "                ]\n",
    "            },\n",
    "            \"context\": {\"contexto\": record[\"rótulos\"]},\n",
    "            \"conditions\": get_condition_string(record),\n",
    "            \"dialog_node\": f\"node_{uuid.uuid4().hex[:16]}\",\n",
    "        }\n",
    "        for record in records\n",
    "    ]\n",
    "    return dialog_nodes\n",
    "\n",
    "def get_titulo(js: dict) -> str:\n",
    "    modificador = js[\"modificador\"]\n",
    "    substantivo = js[\"substantivo\"].replace(\"-\", \" \")\n",
    "    recipiente = js[\"recipiente\"]\n",
    "    \n",
    "    contextos = get_contextos(js[\"rótulos\"].split(\"-\"))\n",
    "    contextos = list(filter(lambda x: x.count(\"-\") == 0, contextos))\n",
    "    trechos = []\n",
    "    if contextos:\n",
    "        trechos.append(f\"{'/'.join(contextos)}:\")\n",
    "    \n",
    "    if modificador in [\"efeito\"]:\n",
    "        trechos.append(modificador)\n",
    "        if substantivo:\n",
    "            trechos.append(\"de {substantivo}\")\n",
    "        recipiente = recipiente or contextos[0]\n",
    "        trechos.append(f\"em {recipiente}\")\n",
    "    elif modificador in [\"maiores\", \"menores\"]:\n",
    "        substituir = {\"produção\": \"produtores\"}\n",
    "        if recipiente in substituir:\n",
    "            recipiente = substituir[recipiente]\n",
    "        substantivo = plural(substantivo)\n",
    "        trechos.append(f\"{modificador} {substantivo} {recipiente}?\")\n",
    "    elif modificador in [\"diferença\"]:\n",
    "        recipiente = recipiente or contextos[0]\n",
    "        trechos.append(f\"{modificador} entre {substantivo} e {recipiente}?\")\n",
    "    elif modificador in [\"existe\", \"quantidade\"]:\n",
    "        recipiente = recipiente or \"no Brasil\"\n",
    "        trechos.append(modificador)\n",
    "        if substantivo:\n",
    "            trechos.append(substantivo + \" \")\n",
    "        trechos.append(f\"{recipiente}?\")\n",
    "    elif modificador in [\"listar\"]:\n",
    "        substituir = {\"extinção\": \"em extinção\", \"aaz\": \"na Amazônia Azul\"}\n",
    "        if recipiente in substituir:\n",
    "            recipiente = substituir[recipiente]\n",
    "        substantivo = plural(substantivo)\n",
    "        trechos.append(f\"listar {substantivo} {recipiente}\")\n",
    "    elif modificador in [\"pertence\"]:\n",
    "        if substantivo and recipiente:\n",
    "            raise ValueError(\"Perguntas do tipo 'pertence' precisam de substantivo ou de recipiente!\")\n",
    "        elif substantivo:\n",
    "            trechos.append(f\"{substantivo} é um {contextos[0]}?\")\n",
    "        elif recipiente:\n",
    "            trechos.append(f\"{contextos[0]} é um {recipiente}?\")\n",
    "        else:\n",
    "            raise ValueError(\"Perguntas do tipo 'pertence' precisam de substantivo ou de recipiente!\")\n",
    "    else:\n",
    "        trechos.append(modificador)\n",
    "        if substantivo:\n",
    "            trechos.append(substantivo)\n",
    "        if recipiente:\n",
    "            trechos.append(recipiente)\n",
    "    trechos[0] = trechos[0].capitalize()\n",
    "    titulo = \" \".join(trechos)\n",
    "    titulo = titulo.strip()\n",
    "    return titulo\n",
    "\n",
    "def get_contextos(rotulos):\n",
    "    \"\"\"\n",
    "    Devolve os contextos de uma pergunta baseado em seus rótulos,\n",
    "    sendo que há uma lista de rótulos que não definem contexto.\n",
    "    \"\"\"\n",
    "    rotulos_nao_contextuais = [\n",
    "        \"fauna\",\n",
    "        \"flora\",\n",
    "        \"extra\",\n",
    "        \"física\",\n",
    "        \"símbolo\",\n",
    "        \"turismo\",\n",
    "        \"engenharia\",\n",
    "        \"saúde\",\n",
    "        \"geologia\",\n",
    "    ]\n",
    "    contextos = [contexto for contexto in rotulos if all(rot not in contexto for rot in rotulos_nao_contextuais)]\n",
    "    return contextos\n",
    "\n",
    "def get_condition_string(js):\n",
    "    modificador = js[\"modificador\"]\n",
    "    substantivo = js[\"substantivo\"]\n",
    "    recipiente = js[\"recipiente\"]\n",
    "    rotulos = js[\"rótulos\"].split(\"-\") + [js[\"rótulos\"]]\n",
    "    rotulos = drop_duplicates(rotulos)\n",
    "    contextos = get_contextos(rotulos)\n",
    "\n",
    "    if contextos:\n",
    "        conds_adicionais = [get_condition(modificador, substantivo, recipiente, contexto) for contexto in contextos]\n",
    "    else:\n",
    "        conds_adicionais = [get_condition(modificador, substantivo, recipiente)]\n",
    "\n",
    "    conds = [f\"#{js['intent']}\"] + flatten(conds_adicionais)\n",
    "    cond_str = \" || \".join(conds)\n",
    "    cond_str = sanitize(cond_str)\n",
    "    return cond_str\n",
    "\n",
    "def get_condition(modificador, substantivo, recipiente, contexto=None) -> list:\n",
    "    trechos = [f\"@modificador:{modificador}\"]\n",
    "    if substantivo:\n",
    "        trechos.append(f\"&& @substantivo:{substantivo}\")\n",
    "    if recipiente:\n",
    "        trechos.append(f\"&& @recipiente:{recipiente}\")\n",
    "    cond = \" \".join(trechos)\n",
    "    if contexto:\n",
    "        out = [cond + f' && $contexto==\"{contexto}\"', cond + f\" && @rótulos:{contexto}\"]\n",
    "    else:\n",
    "        out = [cond]\n",
    "    return out\n",
    "                    \n",
    "def apply_previous_siblings(dialog_nodes: dict) -> dict:\n",
    "    # atribui previous siblings\n",
    "    for i in range(len(dialog_nodes) - 1):\n",
    "        prev, node = dialog_nodes[i], dialog_nodes[i + 1]\n",
    "        node[\"previous_sibling\"] = prev[\"dialog_node\"]\n",
    "    return dialog_nodes"
   ]
  },
  {
   "cell_type": "markdown",
   "id": "994744bb",
   "metadata": {},
   "source": [
    "## Skill"
   ]
  },
  {
   "cell_type": "code",
   "execution_count": null,
   "id": "bb686cc2",
   "metadata": {},
   "outputs": [],
   "source": [
    "def mix_skills(skill, **kwargs):\n",
    "    new_skill = deepcopy(skill)\n",
    "    for k, v in kwargs.items():\n",
    "        new_skill[k] = v\n",
    "    return new_skill"
   ]
  },
  {
   "cell_type": "markdown",
   "id": "91421937",
   "metadata": {},
   "source": [
    "## Rodar"
   ]
  },
  {
   "cell_type": "code",
   "execution_count": null,
   "id": "1d81b0f9",
   "metadata": {},
   "outputs": [],
   "source": [
    "df = load_perguntas()\n",
    "df[~(df[\"examples\"]==\"\")]"
   ]
  },
  {
   "cell_type": "code",
   "execution_count": null,
   "id": "286b35a1",
   "metadata": {},
   "outputs": [],
   "source": [
    "skill_path = \"results/skill-Amazônia-Azul.json\"\n",
    "skill = load_skill(skill_path)"
   ]
  },
  {
   "cell_type": "code",
   "execution_count": null,
   "id": "fd75b548",
   "metadata": {},
   "outputs": [],
   "source": [
    "new_intents = mix_list(skill[\"intents\"], get_intents(df))\n",
    "new_intents"
   ]
  },
  {
   "cell_type": "code",
   "execution_count": null,
   "id": "6a6400ca",
   "metadata": {
    "scrolled": true
   },
   "outputs": [],
   "source": [
    "new_entities = mix_list(skill[\"entities\"], get_entities(df))\n",
    "new_entities"
   ]
  },
  {
   "cell_type": "code",
   "execution_count": null,
   "id": "29124fc7",
   "metadata": {
    "scrolled": true
   },
   "outputs": [],
   "source": [
    "new_dialog_nodes = mix_list(skill[\"dialog_nodes\"], get_dialog_nodes(df))\n",
    "new_dialog_nodes = apply_previous_siblings(new_dialog_nodes)\n",
    "new_dialog_nodes"
   ]
  },
  {
   "cell_type": "code",
   "execution_count": null,
   "id": "3b92c569",
   "metadata": {},
   "outputs": [],
   "source": [
    "new_skill = mix_skills(skill, intents=new_intents, entities=new_entities, dialog_nodes=new_dialog_nodes)\n",
    "save_skill(skill_path, new_skill)"
   ]
  },
  {
   "cell_type": "markdown",
   "id": "d2daf8c9",
   "metadata": {},
   "source": [
    "## Comparar"
   ]
  },
  {
   "cell_type": "code",
   "execution_count": null,
   "id": "c159bdad",
   "metadata": {},
   "outputs": [],
   "source": [
    "nodes_dict = to_dict(nodes)\n",
    "new_nodes_dict = to_dict(new_dialog_nodes)\n",
    "diff = [node for node in new_nodes_dict if node not in nodes_dict]\n",
    "diff = [new_nodes_dict[node] for node in diff]\n",
    "diff"
   ]
  }
 ],
 "metadata": {
  "kernelspec": {
   "display_name": "Python [conda env:root] *",
   "language": "python",
   "name": "conda-root-py"
  },
  "language_info": {
   "codemirror_mode": {
    "name": "ipython",
    "version": 3
   },
   "file_extension": ".py",
   "mimetype": "text/x-python",
   "name": "python",
   "nbconvert_exporter": "python",
   "pygments_lexer": "ipython3",
   "version": "3.7.9"
  },
  "toc": {
   "base_numbering": 1,
   "nav_menu": {},
   "number_sections": true,
   "sideBar": true,
   "skip_h1_title": false,
   "title_cell": "Table of Contents",
   "title_sidebar": "Contents",
   "toc_cell": false,
   "toc_position": {},
   "toc_section_display": true,
   "toc_window_display": true
  },
  "varInspector": {
   "cols": {
    "lenName": 16,
    "lenType": 16,
    "lenVar": 40
   },
   "kernels_config": {
    "python": {
     "delete_cmd_postfix": "",
     "delete_cmd_prefix": "del ",
     "library": "var_list.py",
     "varRefreshCmd": "print(var_dic_list())"
    },
    "r": {
     "delete_cmd_postfix": ") ",
     "delete_cmd_prefix": "rm(",
     "library": "var_list.r",
     "varRefreshCmd": "cat(var_dic_list()) "
    }
   },
   "position": {
    "height": "249.85px",
    "left": "903px",
    "right": "20px",
    "top": "68px",
    "width": "543px"
   },
   "types_to_exclude": [
    "module",
    "function",
    "builtin_function_or_method",
    "instance",
    "_Feature"
   ],
   "window_display": false
  }
 },
 "nbformat": 4,
 "nbformat_minor": 5
}
